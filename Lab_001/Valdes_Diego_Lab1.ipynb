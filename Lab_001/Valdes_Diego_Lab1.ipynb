{
 "cells": [
  {
   "cell_type": "code",
   "execution_count": 111,
   "metadata": {},
   "outputs": [],
   "source": [
    "# import packages for analysis and modeling\n",
    "import pandas as pd  # data frame operations\n",
    "\n",
    "import numpy as np  # arrays and math functions\n",
    "from scipy.stats import uniform  # for training-and-test split\n",
    "import statsmodels.api as sm  # statistical models (including regression)\n",
    "import statsmodels.formula.api as smf  # R-like model specification\n",
    "import matplotlib.pyplot as plt  # 2D plotting\n",
    "\n",
    "import seaborn as sns  # PROVIDES TRELLIS AND SMALL MULTIPLE PLOTTING"
   ]
  },
  {
   "cell_type": "code",
   "execution_count": 112,
   "metadata": {},
   "outputs": [],
   "source": [
    "coachesOG = pd.read_csv(\"Coaches9.csv\") #read in data "
   ]
  },
  {
   "cell_type": "code",
   "execution_count": 113,
   "metadata": {},
   "outputs": [
    {
     "data": {
      "text/html": [
       "<div>\n",
       "<style scoped>\n",
       "    .dataframe tbody tr th:only-of-type {\n",
       "        vertical-align: middle;\n",
       "    }\n",
       "\n",
       "    .dataframe tbody tr th {\n",
       "        vertical-align: top;\n",
       "    }\n",
       "\n",
       "    .dataframe thead th {\n",
       "        text-align: right;\n",
       "    }\n",
       "</style>\n",
       "<table border=\"1\" class=\"dataframe\">\n",
       "  <thead>\n",
       "    <tr style=\"text-align: right;\">\n",
       "      <th></th>\n",
       "      <th>School</th>\n",
       "      <th>Conference</th>\n",
       "      <th>Coach</th>\n",
       "      <th>SchoolPay</th>\n",
       "      <th>TotalPay</th>\n",
       "      <th>Bonus</th>\n",
       "      <th>BonusPaid</th>\n",
       "      <th>AssistantPay</th>\n",
       "      <th>Buyout</th>\n",
       "    </tr>\n",
       "  </thead>\n",
       "  <tbody>\n",
       "    <tr>\n",
       "      <th>count</th>\n",
       "      <td>129</td>\n",
       "      <td>129</td>\n",
       "      <td>129</td>\n",
       "      <td>129</td>\n",
       "      <td>129</td>\n",
       "      <td>129</td>\n",
       "      <td>129</td>\n",
       "      <td>129</td>\n",
       "      <td>129</td>\n",
       "    </tr>\n",
       "    <tr>\n",
       "      <th>unique</th>\n",
       "      <td>129</td>\n",
       "      <td>11</td>\n",
       "      <td>129</td>\n",
       "      <td>104</td>\n",
       "      <td>105</td>\n",
       "      <td>85</td>\n",
       "      <td>51</td>\n",
       "      <td>1</td>\n",
       "      <td>102</td>\n",
       "    </tr>\n",
       "    <tr>\n",
       "      <th>top</th>\n",
       "      <td>Michigan State</td>\n",
       "      <td>SEC</td>\n",
       "      <td>Scott Satterfield</td>\n",
       "      <td>$3,500,000</td>\n",
       "      <td>$3,500,000</td>\n",
       "      <td>--</td>\n",
       "      <td>--</td>\n",
       "      <td>$0</td>\n",
       "      <td>--</td>\n",
       "    </tr>\n",
       "    <tr>\n",
       "      <th>freq</th>\n",
       "      <td>1</td>\n",
       "      <td>14</td>\n",
       "      <td>1</td>\n",
       "      <td>5</td>\n",
       "      <td>5</td>\n",
       "      <td>22</td>\n",
       "      <td>41</td>\n",
       "      <td>129</td>\n",
       "      <td>22</td>\n",
       "    </tr>\n",
       "  </tbody>\n",
       "</table>\n",
       "</div>"
      ],
      "text/plain": [
       "                School Conference              Coach    SchoolPay  \\\n",
       "count              129        129                129          129   \n",
       "unique             129         11                129          104   \n",
       "top     Michigan State        SEC  Scott Satterfield  $3,500,000    \n",
       "freq                 1         14                  1            5   \n",
       "\n",
       "           TotalPay Bonus BonusPaid AssistantPay Buyout  \n",
       "count           129   129       129          129    129  \n",
       "unique          105    85        51            1    102  \n",
       "top     $3,500,000     --        --          $0      --  \n",
       "freq              5    22        41          129     22  "
      ]
     },
     "execution_count": 113,
     "metadata": {},
     "output_type": "execute_result"
    }
   ],
   "source": [
    "coachesOG.describe(include='all') # describe what's going on"
   ]
  },
  {
   "cell_type": "code",
   "execution_count": 114,
   "metadata": {},
   "outputs": [
    {
     "data": {
      "text/plain": [
       "School          0\n",
       "Conference      0\n",
       "Coach           0\n",
       "SchoolPay       0\n",
       "TotalPay        0\n",
       "Bonus           0\n",
       "BonusPaid       0\n",
       "AssistantPay    0\n",
       "Buyout          0\n",
       "dtype: int64"
      ]
     },
     "execution_count": 114,
     "metadata": {},
     "output_type": "execute_result"
    }
   ],
   "source": [
    "coachesOG.isnull().sum() # check for nulls"
   ]
  },
  {
   "cell_type": "code",
   "execution_count": 115,
   "metadata": {},
   "outputs": [
    {
     "data": {
      "text/plain": [
       "School          0\n",
       "Conference      0\n",
       "Coach           0\n",
       "AssistantPay    0\n",
       "dtype: int64"
      ]
     },
     "execution_count": 115,
     "metadata": {},
     "output_type": "execute_result"
    }
   ],
   "source": [
    "coachesOG.where(coachesOG == '--').sum() # figured out '--' exist and need to remove"
   ]
  },
  {
   "cell_type": "code",
   "execution_count": 116,
   "metadata": {},
   "outputs": [
    {
     "data": {
      "text/plain": [
       "School          0.0\n",
       "Conference      0.0\n",
       "Coach           0.0\n",
       "SchoolPay       0.0\n",
       "TotalPay        0.0\n",
       "Bonus           0.0\n",
       "BonusPaid       0.0\n",
       "AssistantPay    0.0\n",
       "Buyout          0.0\n",
       "dtype: float64"
      ]
     },
     "execution_count": 116,
     "metadata": {},
     "output_type": "execute_result"
    }
   ],
   "source": [
    "c = coachesOG # let's clean the data by removing rows with '--'\n",
    "\n",
    "# removing '--' values which translate to null\n",
    "c = c[(c.SchoolPay != '--') | (c.TotalPay != '--')]\n",
    "c = c[(c.Bonus != '--') ]\n",
    "c = c[(c.Buyout != '--')]\n",
    "c = c[(c.BonusPaid != '--')]\n",
    "\n",
    "c.where(coachesOG == '--').sum()"
   ]
  },
  {
   "cell_type": "code",
   "execution_count": 117,
   "metadata": {
    "scrolled": true
   },
   "outputs": [
    {
     "data": {
      "text/html": [
       "<div>\n",
       "<style scoped>\n",
       "    .dataframe tbody tr th:only-of-type {\n",
       "        vertical-align: middle;\n",
       "    }\n",
       "\n",
       "    .dataframe tbody tr th {\n",
       "        vertical-align: top;\n",
       "    }\n",
       "\n",
       "    .dataframe thead th {\n",
       "        text-align: right;\n",
       "    }\n",
       "</style>\n",
       "<table border=\"1\" class=\"dataframe\">\n",
       "  <thead>\n",
       "    <tr style=\"text-align: right;\">\n",
       "      <th></th>\n",
       "      <th>School</th>\n",
       "      <th>Conference</th>\n",
       "      <th>Coach</th>\n",
       "      <th>SchoolPay</th>\n",
       "      <th>TotalPay</th>\n",
       "      <th>Bonus</th>\n",
       "      <th>BonusPaid</th>\n",
       "      <th>AssistantPay</th>\n",
       "      <th>Buyout</th>\n",
       "    </tr>\n",
       "  </thead>\n",
       "  <tbody>\n",
       "    <tr>\n",
       "      <th>count</th>\n",
       "      <td>87</td>\n",
       "      <td>87</td>\n",
       "      <td>87</td>\n",
       "      <td>87</td>\n",
       "      <td>87</td>\n",
       "      <td>87</td>\n",
       "      <td>87</td>\n",
       "      <td>87</td>\n",
       "      <td>87</td>\n",
       "    </tr>\n",
       "    <tr>\n",
       "      <th>unique</th>\n",
       "      <td>87</td>\n",
       "      <td>11</td>\n",
       "      <td>87</td>\n",
       "      <td>73</td>\n",
       "      <td>75</td>\n",
       "      <td>71</td>\n",
       "      <td>49</td>\n",
       "      <td>1</td>\n",
       "      <td>82</td>\n",
       "    </tr>\n",
       "    <tr>\n",
       "      <th>top</th>\n",
       "      <td>Michigan State</td>\n",
       "      <td>C-USA</td>\n",
       "      <td>Scott Satterfield</td>\n",
       "      <td>$3,500,000</td>\n",
       "      <td>$3,500,000</td>\n",
       "      <td>$900,000</td>\n",
       "      <td>$0</td>\n",
       "      <td>$0</td>\n",
       "      <td>$300,000</td>\n",
       "    </tr>\n",
       "    <tr>\n",
       "      <th>freq</th>\n",
       "      <td>1</td>\n",
       "      <td>12</td>\n",
       "      <td>1</td>\n",
       "      <td>4</td>\n",
       "      <td>4</td>\n",
       "      <td>4</td>\n",
       "      <td>18</td>\n",
       "      <td>87</td>\n",
       "      <td>3</td>\n",
       "    </tr>\n",
       "  </tbody>\n",
       "</table>\n",
       "</div>"
      ],
      "text/plain": [
       "                School Conference              Coach    SchoolPay  \\\n",
       "count               87         87                 87           87   \n",
       "unique              87         11                 87           73   \n",
       "top     Michigan State      C-USA  Scott Satterfield  $3,500,000    \n",
       "freq                 1         12                  1            4   \n",
       "\n",
       "           TotalPay      Bonus BonusPaid AssistantPay     Buyout  \n",
       "count            87         87        87           87         87  \n",
       "unique           75         71        49            1         82  \n",
       "top     $3,500,000   $900,000        $0           $0   $300,000   \n",
       "freq              4          4        18           87          3  "
      ]
     },
     "execution_count": 117,
     "metadata": {},
     "output_type": "execute_result"
    }
   ],
   "source": [
    "c.describe()"
   ]
  },
  {
   "cell_type": "code",
   "execution_count": 118,
   "metadata": {
    "scrolled": true
   },
   "outputs": [
    {
     "name": "stdout",
     "output_type": "stream",
     "text": [
      "<class 'pandas.core.frame.DataFrame'>\n",
      "Int64Index: 87 entries, 1 to 128\n",
      "Data columns (total 9 columns):\n",
      "School          87 non-null object\n",
      "Conference      87 non-null category\n",
      "Coach           87 non-null object\n",
      "SchoolPay       87 non-null object\n",
      "TotalPay        87 non-null object\n",
      "Bonus           87 non-null object\n",
      "BonusPaid       87 non-null object\n",
      "AssistantPay    87 non-null object\n",
      "Buyout          87 non-null object\n",
      "dtypes: category(1), object(8)\n",
      "memory usage: 9.1+ KB\n"
     ]
    }
   ],
   "source": [
    "conferenceFactors = pd.factorize(c['Conference']) # get numerical values for conferences\n",
    "#pd.unique(c['Conference'])\n",
    "#conferenceFactors[0]\n",
    "#conferenceFactors[1]\n",
    "\n",
    "\n",
    "c['Conference'] = c['Conference'].astype('category') # change conference to category type\n",
    "c.info()"
   ]
  },
  {
   "cell_type": "code",
   "execution_count": 119,
   "metadata": {},
   "outputs": [],
   "source": [
    "#c['TotalPay'] = pd.to_numeric(c['TotalPay'])\n",
    "\n",
    "newTotalPay  = c['TotalPay'].str[1:] # remove $ from string data\n",
    "newTotalPay = newTotalPay.map(lambda x: x.replace(',','')) # remove ',' from data\n",
    "newTotalPay\n",
    "#c['TotalPay']  = c['TotalPay'].replace(\",\",\"\")\n",
    "#c['TotalPay'] \n",
    "c['TotalPay'] = pd.to_numeric(newTotalPay) # turn to numeric"
   ]
  },
  {
   "cell_type": "code",
   "execution_count": 120,
   "metadata": {},
   "outputs": [],
   "source": [
    "# function to turn string vector to numeric\n",
    "def moMoneyMoProblems(vector, dollar=True):\n",
    "    \n",
    "    if dollar:\n",
    "        vector = vector.str[1:]\n",
    "        \n",
    "    vector = vector.map(lambda x: x.replace(',',''))\n",
    "    \n",
    "    return pd.to_numeric(vector)"
   ]
  },
  {
   "cell_type": "code",
   "execution_count": 121,
   "metadata": {},
   "outputs": [
    {
     "data": {
      "image/png": "[encoded data removed]",
      "text/plain": [
       "<Figure size 1152x720 with 1 Axes>"
      ]
     },
     "metadata": {
      "needs_background": "light"
     },
     "output_type": "display_data"
    }
   ],
   "source": [
    "c['Bonus'] = moMoneyMoProblems(c['Bonus']) # bonus to numeric\n",
    "\n",
    "# plots and save\n",
    "plt.figure(figsize=(16,10))\n",
    "sns.boxplot(x='Conference', y='TotalPay', data=c)\n",
    "plt.savefig('boxplot.png')"
   ]
  },
  {
   "cell_type": "code",
   "execution_count": 122,
   "metadata": {
    "scrolled": true
   },
   "outputs": [
    {
     "data": {
      "image/png": "[encoded data removed]",
      "text/plain": [
       "<Figure size 1152x720 with 1 Axes>"
      ]
     },
     "metadata": {
      "needs_background": "light"
     },
     "output_type": "display_data"
    }
   ],
   "source": [
    "plt.figure(figsize=(16,10))\n",
    "plt.hist(c['TotalPay'], density=False, stacked=False, rwidth=.9)\n",
    "plt.savefig('histplot.png')"
   ]
  },
  {
   "cell_type": "code",
   "execution_count": 123,
   "metadata": {},
   "outputs": [
    {
     "data": {
      "text/plain": [
       "<Figure size 1440x1440 with 0 Axes>"
      ]
     },
     "metadata": {},
     "output_type": "display_data"
    },
    {
     "data": {
      "image/png": "[encoded data removed]",
      "text/plain": [
       "<Figure size 360x360 with 1 Axes>"
      ]
     },
     "metadata": {
      "needs_background": "light"
     },
     "output_type": "display_data"
    }
   ],
   "source": [
    "# just wanted to take a look\n",
    "plt.figure(figsize=(20,20))\n",
    "sns.lmplot(x='TotalPay',y='Bonus',data=c)\n",
    "plt.savefig('linearplot.png')"
   ]
  },
  {
   "cell_type": "code",
   "execution_count": 124,
   "metadata": {
    "scrolled": true
   },
   "outputs": [
    {
     "data": {
      "image/png": "[encoded data removed]",
      "text/plain": [
       "<Figure size 1152x720 with 1 Axes>"
      ]
     },
     "metadata": {
      "needs_background": "light"
     },
     "output_type": "display_data"
    }
   ],
   "source": [
    "plt.figure(figsize=(16,10))\n",
    "sns.distplot(c.TotalPay)\n",
    "plt.savefig('distplot.png')"
   ]
  },
  {
   "cell_type": "code",
   "execution_count": 125,
   "metadata": {},
   "outputs": [],
   "source": [
    "conferenceFactors = pd.factorize(c['Conference']) # getting the factor values\n",
    "#c['Conference'] = conferenceFactors[0]\n",
    "conferences = conferenceFactors[1]"
   ]
  },
  {
   "cell_type": "code",
   "execution_count": 126,
   "metadata": {},
   "outputs": [
    {
     "data": {
      "text/plain": [
       "[MAC, SEC, C-USA, Sun Belt, Mt. West, ..., AAC, ACC, Big Ten, Big 12, Ind.]\n",
       "Length: 11\n",
       "Categories (11, object): [MAC, SEC, C-USA, Sun Belt, ..., ACC, Big Ten, Big 12, Ind.]"
      ]
     },
     "execution_count": 126,
     "metadata": {},
     "output_type": "execute_result"
    }
   ],
   "source": [
    "pd.unique(c['Conference']) # checking how many there are"
   ]
  },
  {
   "cell_type": "code",
   "execution_count": 127,
   "metadata": {},
   "outputs": [],
   "source": [
    "ncaa = pd.read_csv(\"ncaa_data_03.txt\") # read in ncaa data"
   ]
  },
  {
   "cell_type": "code",
   "execution_count": 128,
   "metadata": {
    "scrolled": true
   },
   "outputs": [
    {
     "data": {
      "text/html": [
       "<div>\n",
       "<style scoped>\n",
       "    .dataframe tbody tr th:only-of-type {\n",
       "        vertical-align: middle;\n",
       "    }\n",
       "\n",
       "    .dataframe tbody tr th {\n",
       "        vertical-align: top;\n",
       "    }\n",
       "\n",
       "    .dataframe thead th {\n",
       "        text-align: right;\n",
       "    }\n",
       "</style>\n",
       "<table border=\"1\" class=\"dataframe\">\n",
       "  <thead>\n",
       "    <tr style=\"text-align: right;\">\n",
       "      <th></th>\n",
       "      <th>SCL_UNITID</th>\n",
       "      <th>SCL_NAME</th>\n",
       "      <th>SCL_DIVISION</th>\n",
       "      <th>SCL_SUBDIVISION</th>\n",
       "      <th>SCL_CONFERENCE</th>\n",
       "      <th>DIV1_FB_CONFERENCE</th>\n",
       "      <th>SCL_HBCU</th>\n",
       "      <th>SCL_PRIVATE</th>\n",
       "      <th>SPORT</th>\n",
       "      <th>SPONSORED</th>\n",
       "      <th>FED_RATE</th>\n",
       "      <th>GSR</th>\n",
       "    </tr>\n",
       "  </thead>\n",
       "  <tbody>\n",
       "    <tr>\n",
       "      <th>0</th>\n",
       "      <td>100654</td>\n",
       "      <td>Alabama A&amp;M University</td>\n",
       "      <td>1</td>\n",
       "      <td>2</td>\n",
       "      <td>Southwestern Athletic Conf.</td>\n",
       "      <td>Southwestern Athletic Conf.</td>\n",
       "      <td>1</td>\n",
       "      <td>0</td>\n",
       "      <td>WSB</td>\n",
       "      <td>1</td>\n",
       "      <td>57.0</td>\n",
       "      <td>61.0</td>\n",
       "    </tr>\n",
       "    <tr>\n",
       "      <th>1</th>\n",
       "      <td>100654</td>\n",
       "      <td>Alabama A&amp;M University</td>\n",
       "      <td>1</td>\n",
       "      <td>2</td>\n",
       "      <td>Southwestern Athletic Conf.</td>\n",
       "      <td>Southwestern Athletic Conf.</td>\n",
       "      <td>1</td>\n",
       "      <td>0</td>\n",
       "      <td>MFB</td>\n",
       "      <td>1</td>\n",
       "      <td>47.0</td>\n",
       "      <td>62.0</td>\n",
       "    </tr>\n",
       "    <tr>\n",
       "      <th>2</th>\n",
       "      <td>100654</td>\n",
       "      <td>Alabama A&amp;M University</td>\n",
       "      <td>1</td>\n",
       "      <td>2</td>\n",
       "      <td>Southwestern Athletic Conf.</td>\n",
       "      <td>Southwestern Athletic Conf.</td>\n",
       "      <td>1</td>\n",
       "      <td>0</td>\n",
       "      <td>WSO</td>\n",
       "      <td>1</td>\n",
       "      <td>50.0</td>\n",
       "      <td>67.0</td>\n",
       "    </tr>\n",
       "    <tr>\n",
       "      <th>3</th>\n",
       "      <td>100654</td>\n",
       "      <td>Alabama A&amp;M University</td>\n",
       "      <td>1</td>\n",
       "      <td>2</td>\n",
       "      <td>Southwestern Athletic Conf.</td>\n",
       "      <td>Southwestern Athletic Conf.</td>\n",
       "      <td>1</td>\n",
       "      <td>0</td>\n",
       "      <td>MSO</td>\n",
       "      <td>0</td>\n",
       "      <td>29.0</td>\n",
       "      <td>NaN</td>\n",
       "    </tr>\n",
       "    <tr>\n",
       "      <th>4</th>\n",
       "      <td>100654</td>\n",
       "      <td>Alabama A&amp;M University</td>\n",
       "      <td>1</td>\n",
       "      <td>2</td>\n",
       "      <td>Southwestern Athletic Conf.</td>\n",
       "      <td>Southwestern Athletic Conf.</td>\n",
       "      <td>1</td>\n",
       "      <td>0</td>\n",
       "      <td>WBW</td>\n",
       "      <td>1</td>\n",
       "      <td>86.0</td>\n",
       "      <td>86.0</td>\n",
       "    </tr>\n",
       "  </tbody>\n",
       "</table>\n",
       "</div>"
      ],
      "text/plain": [
       "   SCL_UNITID                SCL_NAME  SCL_DIVISION  SCL_SUBDIVISION  \\\n",
       "0      100654  Alabama A&M University             1                2   \n",
       "1      100654  Alabama A&M University             1                2   \n",
       "2      100654  Alabama A&M University             1                2   \n",
       "3      100654  Alabama A&M University             1                2   \n",
       "4      100654  Alabama A&M University             1                2   \n",
       "\n",
       "                SCL_CONFERENCE           DIV1_FB_CONFERENCE  SCL_HBCU  \\\n",
       "0  Southwestern Athletic Conf.  Southwestern Athletic Conf.         1   \n",
       "1  Southwestern Athletic Conf.  Southwestern Athletic Conf.         1   \n",
       "2  Southwestern Athletic Conf.  Southwestern Athletic Conf.         1   \n",
       "3  Southwestern Athletic Conf.  Southwestern Athletic Conf.         1   \n",
       "4  Southwestern Athletic Conf.  Southwestern Athletic Conf.         1   \n",
       "\n",
       "   SCL_PRIVATE SPORT  SPONSORED  FED_RATE   GSR  \n",
       "0            0   WSB          1      57.0  61.0  \n",
       "1            0   MFB          1      47.0  62.0  \n",
       "2            0   WSO          1      50.0  67.0  \n",
       "3            0   MSO          0      29.0   NaN  \n",
       "4            0   WBW          1      86.0  86.0  "
      ]
     },
     "execution_count": 128,
     "metadata": {},
     "output_type": "execute_result"
    }
   ],
   "source": [
    "ncaa.head()"
   ]
  },
  {
   "cell_type": "code",
   "execution_count": 129,
   "metadata": {},
   "outputs": [
    {
     "data": {
      "text/html": [
       "<div>\n",
       "<style scoped>\n",
       "    .dataframe tbody tr th:only-of-type {\n",
       "        vertical-align: middle;\n",
       "    }\n",
       "\n",
       "    .dataframe tbody tr th {\n",
       "        vertical-align: top;\n",
       "    }\n",
       "\n",
       "    .dataframe thead th {\n",
       "        text-align: right;\n",
       "    }\n",
       "</style>\n",
       "<table border=\"1\" class=\"dataframe\">\n",
       "  <thead>\n",
       "    <tr style=\"text-align: right;\">\n",
       "      <th></th>\n",
       "      <th>SCL_UNITID</th>\n",
       "      <th>SCL_NAME</th>\n",
       "      <th>SCL_DIVISION</th>\n",
       "      <th>SCL_SUBDIVISION</th>\n",
       "      <th>SCL_CONFERENCE</th>\n",
       "      <th>DIV1_FB_CONFERENCE</th>\n",
       "      <th>SCL_HBCU</th>\n",
       "      <th>SCL_PRIVATE</th>\n",
       "      <th>SPORT</th>\n",
       "      <th>SPONSORED</th>\n",
       "      <th>FED_RATE</th>\n",
       "      <th>GSR</th>\n",
       "    </tr>\n",
       "  </thead>\n",
       "  <tbody>\n",
       "    <tr>\n",
       "      <th>count</th>\n",
       "      <td>5403.000000</td>\n",
       "      <td>5403</td>\n",
       "      <td>5403.0</td>\n",
       "      <td>5403.000000</td>\n",
       "      <td>5403</td>\n",
       "      <td>4005</td>\n",
       "      <td>5403.000000</td>\n",
       "      <td>5403.000000</td>\n",
       "      <td>5403</td>\n",
       "      <td>5403.000000</td>\n",
       "      <td>5093.000000</td>\n",
       "      <td>5264.000000</td>\n",
       "    </tr>\n",
       "    <tr>\n",
       "      <th>unique</th>\n",
       "      <td>NaN</td>\n",
       "      <td>351</td>\n",
       "      <td>NaN</td>\n",
       "      <td>NaN</td>\n",
       "      <td>32</td>\n",
       "      <td>24</td>\n",
       "      <td>NaN</td>\n",
       "      <td>NaN</td>\n",
       "      <td>36</td>\n",
       "      <td>NaN</td>\n",
       "      <td>NaN</td>\n",
       "      <td>NaN</td>\n",
       "    </tr>\n",
       "    <tr>\n",
       "      <th>top</th>\n",
       "      <td>NaN</td>\n",
       "      <td>The Ohio State University</td>\n",
       "      <td>NaN</td>\n",
       "      <td>NaN</td>\n",
       "      <td>Big Ten Conference</td>\n",
       "      <td>Big Ten Conference</td>\n",
       "      <td>NaN</td>\n",
       "      <td>NaN</td>\n",
       "      <td>MBB</td>\n",
       "      <td>NaN</td>\n",
       "      <td>NaN</td>\n",
       "      <td>NaN</td>\n",
       "    </tr>\n",
       "    <tr>\n",
       "      <th>freq</th>\n",
       "      <td>NaN</td>\n",
       "      <td>31</td>\n",
       "      <td>NaN</td>\n",
       "      <td>NaN</td>\n",
       "      <td>295</td>\n",
       "      <td>295</td>\n",
       "      <td>NaN</td>\n",
       "      <td>NaN</td>\n",
       "      <td>351</td>\n",
       "      <td>NaN</td>\n",
       "      <td>NaN</td>\n",
       "      <td>NaN</td>\n",
       "    </tr>\n",
       "    <tr>\n",
       "      <th>mean</th>\n",
       "      <td>180022.727189</td>\n",
       "      <td>NaN</td>\n",
       "      <td>1.0</td>\n",
       "      <td>1.872478</td>\n",
       "      <td>NaN</td>\n",
       "      <td>NaN</td>\n",
       "      <td>1.944105</td>\n",
       "      <td>0.361466</td>\n",
       "      <td>NaN</td>\n",
       "      <td>0.975569</td>\n",
       "      <td>68.634793</td>\n",
       "      <td>89.081687</td>\n",
       "    </tr>\n",
       "    <tr>\n",
       "      <th>std</th>\n",
       "      <td>44881.424476</td>\n",
       "      <td>NaN</td>\n",
       "      <td>0.0</td>\n",
       "      <td>0.793011</td>\n",
       "      <td>NaN</td>\n",
       "      <td>NaN</td>\n",
       "      <td>0.229740</td>\n",
       "      <td>0.480470</td>\n",
       "      <td>NaN</td>\n",
       "      <td>0.154397</td>\n",
       "      <td>20.730781</td>\n",
       "      <td>12.618994</td>\n",
       "    </tr>\n",
       "    <tr>\n",
       "      <th>min</th>\n",
       "      <td>100654.000000</td>\n",
       "      <td>NaN</td>\n",
       "      <td>1.0</td>\n",
       "      <td>1.000000</td>\n",
       "      <td>NaN</td>\n",
       "      <td>NaN</td>\n",
       "      <td>1.000000</td>\n",
       "      <td>0.000000</td>\n",
       "      <td>NaN</td>\n",
       "      <td>0.000000</td>\n",
       "      <td>0.000000</td>\n",
       "      <td>0.000000</td>\n",
       "    </tr>\n",
       "    <tr>\n",
       "      <th>25%</th>\n",
       "      <td>145813.000000</td>\n",
       "      <td>NaN</td>\n",
       "      <td>1.0</td>\n",
       "      <td>1.000000</td>\n",
       "      <td>NaN</td>\n",
       "      <td>NaN</td>\n",
       "      <td>2.000000</td>\n",
       "      <td>0.000000</td>\n",
       "      <td>NaN</td>\n",
       "      <td>1.000000</td>\n",
       "      <td>56.000000</td>\n",
       "      <td>83.000000</td>\n",
       "    </tr>\n",
       "    <tr>\n",
       "      <th>50%</th>\n",
       "      <td>185828.000000</td>\n",
       "      <td>NaN</td>\n",
       "      <td>1.0</td>\n",
       "      <td>2.000000</td>\n",
       "      <td>NaN</td>\n",
       "      <td>NaN</td>\n",
       "      <td>2.000000</td>\n",
       "      <td>0.000000</td>\n",
       "      <td>NaN</td>\n",
       "      <td>1.000000</td>\n",
       "      <td>71.000000</td>\n",
       "      <td>92.000000</td>\n",
       "    </tr>\n",
       "    <tr>\n",
       "      <th>75%</th>\n",
       "      <td>215743.000000</td>\n",
       "      <td>NaN</td>\n",
       "      <td>1.0</td>\n",
       "      <td>3.000000</td>\n",
       "      <td>NaN</td>\n",
       "      <td>NaN</td>\n",
       "      <td>2.000000</td>\n",
       "      <td>1.000000</td>\n",
       "      <td>NaN</td>\n",
       "      <td>1.000000</td>\n",
       "      <td>83.000000</td>\n",
       "      <td>100.000000</td>\n",
       "    </tr>\n",
       "    <tr>\n",
       "      <th>max</th>\n",
       "      <td>486840.000000</td>\n",
       "      <td>NaN</td>\n",
       "      <td>1.0</td>\n",
       "      <td>3.000000</td>\n",
       "      <td>NaN</td>\n",
       "      <td>NaN</td>\n",
       "      <td>2.000000</td>\n",
       "      <td>1.000000</td>\n",
       "      <td>NaN</td>\n",
       "      <td>1.000000</td>\n",
       "      <td>100.000000</td>\n",
       "      <td>100.000000</td>\n",
       "    </tr>\n",
       "  </tbody>\n",
       "</table>\n",
       "</div>"
      ],
      "text/plain": [
       "           SCL_UNITID                   SCL_NAME  SCL_DIVISION  \\\n",
       "count     5403.000000                       5403        5403.0   \n",
       "unique            NaN                        351           NaN   \n",
       "top               NaN  The Ohio State University           NaN   \n",
       "freq              NaN                         31           NaN   \n",
       "mean    180022.727189                        NaN           1.0   \n",
       "std      44881.424476                        NaN           0.0   \n",
       "min     100654.000000                        NaN           1.0   \n",
       "25%     145813.000000                        NaN           1.0   \n",
       "50%     185828.000000                        NaN           1.0   \n",
       "75%     215743.000000                        NaN           1.0   \n",
       "max     486840.000000                        NaN           1.0   \n",
       "\n",
       "        SCL_SUBDIVISION      SCL_CONFERENCE  DIV1_FB_CONFERENCE     SCL_HBCU  \\\n",
       "count       5403.000000                5403                4005  5403.000000   \n",
       "unique              NaN                  32                  24          NaN   \n",
       "top                 NaN  Big Ten Conference  Big Ten Conference          NaN   \n",
       "freq                NaN                 295                 295          NaN   \n",
       "mean           1.872478                 NaN                 NaN     1.944105   \n",
       "std            0.793011                 NaN                 NaN     0.229740   \n",
       "min            1.000000                 NaN                 NaN     1.000000   \n",
       "25%            1.000000                 NaN                 NaN     2.000000   \n",
       "50%            2.000000                 NaN                 NaN     2.000000   \n",
       "75%            3.000000                 NaN                 NaN     2.000000   \n",
       "max            3.000000                 NaN                 NaN     2.000000   \n",
       "\n",
       "        SCL_PRIVATE SPORT    SPONSORED     FED_RATE          GSR  \n",
       "count   5403.000000  5403  5403.000000  5093.000000  5264.000000  \n",
       "unique          NaN    36          NaN          NaN          NaN  \n",
       "top             NaN   MBB          NaN          NaN          NaN  \n",
       "freq            NaN   351          NaN          NaN          NaN  \n",
       "mean       0.361466   NaN     0.975569    68.634793    89.081687  \n",
       "std        0.480470   NaN     0.154397    20.730781    12.618994  \n",
       "min        0.000000   NaN     0.000000     0.000000     0.000000  \n",
       "25%        0.000000   NaN     1.000000    56.000000    83.000000  \n",
       "50%        0.000000   NaN     1.000000    71.000000    92.000000  \n",
       "75%        1.000000   NaN     1.000000    83.000000   100.000000  \n",
       "max        1.000000   NaN     1.000000   100.000000   100.000000  "
      ]
     },
     "execution_count": 129,
     "metadata": {},
     "output_type": "execute_result"
    }
   ],
   "source": [
    "#ncaa.describe(include=['object','int64','float64'])\n",
    "ncaa.describe(include='all')"
   ]
  },
  {
   "cell_type": "code",
   "execution_count": 130,
   "metadata": {},
   "outputs": [
    {
     "name": "stdout",
     "output_type": "stream",
     "text": [
      "<class 'pandas.core.frame.DataFrame'>\n",
      "RangeIndex: 5403 entries, 0 to 5402\n",
      "Data columns (total 12 columns):\n",
      "SCL_UNITID            5403 non-null int64\n",
      "SCL_NAME              5403 non-null object\n",
      "SCL_DIVISION          5403 non-null int64\n",
      "SCL_SUBDIVISION       5403 non-null int64\n",
      "SCL_CONFERENCE        5403 non-null object\n",
      "DIV1_FB_CONFERENCE    4005 non-null object\n",
      "SCL_HBCU              5403 non-null int64\n",
      "SCL_PRIVATE           5403 non-null int64\n",
      "SPORT                 5403 non-null object\n",
      "SPONSORED             5403 non-null int64\n",
      "FED_RATE              5093 non-null float64\n",
      "GSR                   5264 non-null float64\n",
      "dtypes: float64(2), int64(6), object(4)\n",
      "memory usage: 506.6+ KB\n"
     ]
    }
   ],
   "source": [
    "ncaa.info()"
   ]
  },
  {
   "cell_type": "code",
   "execution_count": 131,
   "metadata": {},
   "outputs": [
    {
     "data": {
      "text/html": [
       "<div>\n",
       "<style scoped>\n",
       "    .dataframe tbody tr th:only-of-type {\n",
       "        vertical-align: middle;\n",
       "    }\n",
       "\n",
       "    .dataframe tbody tr th {\n",
       "        vertical-align: top;\n",
       "    }\n",
       "\n",
       "    .dataframe thead th {\n",
       "        text-align: right;\n",
       "    }\n",
       "</style>\n",
       "<table border=\"1\" class=\"dataframe\">\n",
       "  <thead>\n",
       "    <tr style=\"text-align: right;\">\n",
       "      <th></th>\n",
       "      <th>FED_RATE</th>\n",
       "      <th>GSR</th>\n",
       "    </tr>\n",
       "    <tr>\n",
       "      <th>SCL_CONFERENCE</th>\n",
       "      <th></th>\n",
       "      <th></th>\n",
       "    </tr>\n",
       "  </thead>\n",
       "  <tbody>\n",
       "    <tr>\n",
       "      <th>ASUN Conference</th>\n",
       "      <td>57.603604</td>\n",
       "      <td>84.324324</td>\n",
       "    </tr>\n",
       "    <tr>\n",
       "      <th>America East Conference</th>\n",
       "      <td>68.323308</td>\n",
       "      <td>89.459677</td>\n",
       "    </tr>\n",
       "    <tr>\n",
       "      <th>American Athletic Conference</th>\n",
       "      <td>67.337143</td>\n",
       "      <td>89.583815</td>\n",
       "    </tr>\n",
       "    <tr>\n",
       "      <th>Atlantic 10 Conference</th>\n",
       "      <td>76.950000</td>\n",
       "      <td>91.977169</td>\n",
       "    </tr>\n",
       "    <tr>\n",
       "      <th>Atlantic Coast Conference</th>\n",
       "      <td>74.553030</td>\n",
       "      <td>92.294776</td>\n",
       "    </tr>\n",
       "    <tr>\n",
       "      <th>Big 12 Conference</th>\n",
       "      <td>65.090278</td>\n",
       "      <td>88.319444</td>\n",
       "    </tr>\n",
       "    <tr>\n",
       "      <th>Big East Conference</th>\n",
       "      <td>77.198582</td>\n",
       "      <td>94.748299</td>\n",
       "    </tr>\n",
       "    <tr>\n",
       "      <th>Big Sky Conference</th>\n",
       "      <td>60.664430</td>\n",
       "      <td>85.243056</td>\n",
       "    </tr>\n",
       "    <tr>\n",
       "      <th>Big South Conference</th>\n",
       "      <td>67.112676</td>\n",
       "      <td>89.657143</td>\n",
       "    </tr>\n",
       "    <tr>\n",
       "      <th>Big Ten Conference</th>\n",
       "      <td>76.313993</td>\n",
       "      <td>91.092784</td>\n",
       "    </tr>\n",
       "    <tr>\n",
       "      <th>Big West Conference</th>\n",
       "      <td>67.421769</td>\n",
       "      <td>85.086957</td>\n",
       "    </tr>\n",
       "    <tr>\n",
       "      <th>Colonial Athletic Association</th>\n",
       "      <td>75.357576</td>\n",
       "      <td>90.250000</td>\n",
       "    </tr>\n",
       "    <tr>\n",
       "      <th>Conference USA</th>\n",
       "      <td>65.609626</td>\n",
       "      <td>88.535135</td>\n",
       "    </tr>\n",
       "    <tr>\n",
       "      <th>Horizon League</th>\n",
       "      <td>67.500000</td>\n",
       "      <td>86.776978</td>\n",
       "    </tr>\n",
       "    <tr>\n",
       "      <th>Metro Atlantic Athletic Conference</th>\n",
       "      <td>75.005435</td>\n",
       "      <td>94.102703</td>\n",
       "    </tr>\n",
       "    <tr>\n",
       "      <th>Mid-American Conference</th>\n",
       "      <td>69.877095</td>\n",
       "      <td>89.748571</td>\n",
       "    </tr>\n",
       "    <tr>\n",
       "      <th>Mid-Eastern Athletic Conf.</th>\n",
       "      <td>54.758170</td>\n",
       "      <td>76.636986</td>\n",
       "    </tr>\n",
       "    <tr>\n",
       "      <th>Missouri Valley Conference</th>\n",
       "      <td>73.363636</td>\n",
       "      <td>91.692308</td>\n",
       "    </tr>\n",
       "    <tr>\n",
       "      <th>Mountain West Conference</th>\n",
       "      <td>63.412162</td>\n",
       "      <td>86.398810</td>\n",
       "    </tr>\n",
       "    <tr>\n",
       "      <th>Northeast Conference</th>\n",
       "      <td>70.394118</td>\n",
       "      <td>90.888889</td>\n",
       "    </tr>\n",
       "    <tr>\n",
       "      <th>Ohio Valley Conference</th>\n",
       "      <td>64.560510</td>\n",
       "      <td>86.915033</td>\n",
       "    </tr>\n",
       "    <tr>\n",
       "      <th>Pac-12 Conference</th>\n",
       "      <td>72.033175</td>\n",
       "      <td>89.679245</td>\n",
       "    </tr>\n",
       "    <tr>\n",
       "      <th>Patriot League</th>\n",
       "      <td>87.597122</td>\n",
       "      <td>96.015385</td>\n",
       "    </tr>\n",
       "    <tr>\n",
       "      <th>Southeastern Conference</th>\n",
       "      <td>68.189189</td>\n",
       "      <td>90.363229</td>\n",
       "    </tr>\n",
       "    <tr>\n",
       "      <th>Southern Conference</th>\n",
       "      <td>67.573643</td>\n",
       "      <td>89.751938</td>\n",
       "    </tr>\n",
       "    <tr>\n",
       "      <th>Southland Conference</th>\n",
       "      <td>54.860759</td>\n",
       "      <td>81.828025</td>\n",
       "    </tr>\n",
       "    <tr>\n",
       "      <th>Southwestern Athletic Conf.</th>\n",
       "      <td>52.111940</td>\n",
       "      <td>73.853659</td>\n",
       "    </tr>\n",
       "    <tr>\n",
       "      <th>Sun Belt Conference</th>\n",
       "      <td>60.350993</td>\n",
       "      <td>84.606667</td>\n",
       "    </tr>\n",
       "    <tr>\n",
       "      <th>The Ivy League</th>\n",
       "      <td>93.777778</td>\n",
       "      <td>98.202830</td>\n",
       "    </tr>\n",
       "    <tr>\n",
       "      <th>The Summit League</th>\n",
       "      <td>65.318966</td>\n",
       "      <td>89.369369</td>\n",
       "    </tr>\n",
       "    <tr>\n",
       "      <th>West Coast Conference</th>\n",
       "      <td>71.027586</td>\n",
       "      <td>89.755245</td>\n",
       "    </tr>\n",
       "    <tr>\n",
       "      <th>Western Athletic Conference</th>\n",
       "      <td>59.458716</td>\n",
       "      <td>84.785047</td>\n",
       "    </tr>\n",
       "  </tbody>\n",
       "</table>\n",
       "</div>"
      ],
      "text/plain": [
       "                                     FED_RATE        GSR\n",
       "SCL_CONFERENCE                                          \n",
       "ASUN Conference                     57.603604  84.324324\n",
       "America East Conference             68.323308  89.459677\n",
       "American Athletic Conference        67.337143  89.583815\n",
       "Atlantic 10 Conference              76.950000  91.977169\n",
       "Atlantic Coast Conference           74.553030  92.294776\n",
       "Big 12 Conference                   65.090278  88.319444\n",
       "Big East Conference                 77.198582  94.748299\n",
       "Big Sky Conference                  60.664430  85.243056\n",
       "Big South Conference                67.112676  89.657143\n",
       "Big Ten Conference                  76.313993  91.092784\n",
       "Big West Conference                 67.421769  85.086957\n",
       "Colonial Athletic Association       75.357576  90.250000\n",
       "Conference USA                      65.609626  88.535135\n",
       "Horizon League                      67.500000  86.776978\n",
       "Metro Atlantic Athletic Conference  75.005435  94.102703\n",
       "Mid-American Conference             69.877095  89.748571\n",
       "Mid-Eastern Athletic Conf.          54.758170  76.636986\n",
       "Missouri Valley Conference          73.363636  91.692308\n",
       "Mountain West Conference            63.412162  86.398810\n",
       "Northeast Conference                70.394118  90.888889\n",
       "Ohio Valley Conference              64.560510  86.915033\n",
       "Pac-12 Conference                   72.033175  89.679245\n",
       "Patriot League                      87.597122  96.015385\n",
       "Southeastern Conference             68.189189  90.363229\n",
       "Southern Conference                 67.573643  89.751938\n",
       "Southland Conference                54.860759  81.828025\n",
       "Southwestern Athletic Conf.         52.111940  73.853659\n",
       "Sun Belt Conference                 60.350993  84.606667\n",
       "The Ivy League                      93.777778  98.202830\n",
       "The Summit League                   65.318966  89.369369\n",
       "West Coast Conference               71.027586  89.755245\n",
       "Western Athletic Conference         59.458716  84.785047"
      ]
     },
     "execution_count": 131,
     "metadata": {},
     "output_type": "execute_result"
    }
   ],
   "source": [
    "# Going to group by conference to get the fed-rate and gsr for each conference\n",
    "new_ncaa = ncaa[['SCL_CONFERENCE','FED_RATE', 'GSR']]\n",
    "\n",
    "test_df = new_ncaa.groupby(['SCL_CONFERENCE']).mean()\n",
    "test_df\n"
   ]
  },
  {
   "cell_type": "code",
   "execution_count": 132,
   "metadata": {},
   "outputs": [
    {
     "data": {
      "text/html": [
       "<div>\n",
       "<style scoped>\n",
       "    .dataframe tbody tr th:only-of-type {\n",
       "        vertical-align: middle;\n",
       "    }\n",
       "\n",
       "    .dataframe tbody tr th {\n",
       "        vertical-align: top;\n",
       "    }\n",
       "\n",
       "    .dataframe thead th {\n",
       "        text-align: right;\n",
       "    }\n",
       "</style>\n",
       "<table border=\"1\" class=\"dataframe\">\n",
       "  <thead>\n",
       "    <tr style=\"text-align: right;\">\n",
       "      <th></th>\n",
       "      <th>Conference</th>\n",
       "      <th>FED_RATE</th>\n",
       "      <th>GSR</th>\n",
       "    </tr>\n",
       "  </thead>\n",
       "  <tbody>\n",
       "    <tr>\n",
       "      <th>0</th>\n",
       "      <td>Mid-American Conference</td>\n",
       "      <td>69.877095</td>\n",
       "      <td>89.748571</td>\n",
       "    </tr>\n",
       "    <tr>\n",
       "      <th>1</th>\n",
       "      <td>Southeastern Conference</td>\n",
       "      <td>68.189189</td>\n",
       "      <td>90.363229</td>\n",
       "    </tr>\n",
       "    <tr>\n",
       "      <th>2</th>\n",
       "      <td>Conference USA</td>\n",
       "      <td>65.609626</td>\n",
       "      <td>88.535135</td>\n",
       "    </tr>\n",
       "    <tr>\n",
       "      <th>3</th>\n",
       "      <td>Sun Belt Conference</td>\n",
       "      <td>60.350993</td>\n",
       "      <td>84.606667</td>\n",
       "    </tr>\n",
       "    <tr>\n",
       "      <th>4</th>\n",
       "      <td>Mountain West Conference</td>\n",
       "      <td>63.412162</td>\n",
       "      <td>86.398810</td>\n",
       "    </tr>\n",
       "  </tbody>\n",
       "</table>\n",
       "</div>"
      ],
      "text/plain": [
       "                 Conference   FED_RATE        GSR\n",
       "0   Mid-American Conference  69.877095  89.748571\n",
       "1   Southeastern Conference  68.189189  90.363229\n",
       "2            Conference USA  65.609626  88.535135\n",
       "3       Sun Belt Conference  60.350993  84.606667\n",
       "4  Mountain West Conference  63.412162  86.398810"
      ]
     },
     "execution_count": 132,
     "metadata": {},
     "output_type": "execute_result"
    }
   ],
   "source": [
    "test_df.iloc[[1,4,6,7],]\n",
    "\n",
    "# pulling the conferences I have data for in coaches \n",
    "conferenceDF = test_df.loc[['Mid-American Conference','Southeastern Conference','Conference USA','Sun Belt Conference','Mountain West Conference',\n",
    "            'Pac-12 Conference','American Athletic Conference','Atlantic Coast Conference','Big Ten Conference','Big 12 Conference',],]\n",
    "\n",
    "# pulling rows into columns for merging\n",
    "conferenceDF.index.name = 'Conference'\n",
    "conferenceDF.reset_index(inplace=True)\n",
    "conferenceDF.head()"
   ]
  },
  {
   "cell_type": "code",
   "execution_count": 133,
   "metadata": {},
   "outputs": [],
   "source": [
    "# converting codes to names for merging purposes\n",
    "coaches = c\n",
    "\n",
    "coaches = coaches.replace(to_replace = ['MAC', 'SEC', 'C-USA', 'Sun Belt', 'Mt. West', 'Pac-12',\n",
    "                  'AAC', 'ACC', 'Big Ten', 'Big 12', 'Ind.'], \n",
    "                value=['Mid-American Conference','Southeastern Conference','Conference USA','Sun Belt Conference','Mountain West Conference',\n",
    "            'Pac-12 Conference','American Athletic Conference','Atlantic Coast Conference','Big Ten Conference','Big 12 Conference','Ind'])"
   ]
  },
  {
   "cell_type": "code",
   "execution_count": 134,
   "metadata": {},
   "outputs": [
    {
     "data": {
      "text/html": [
       "<div>\n",
       "<style scoped>\n",
       "    .dataframe tbody tr th:only-of-type {\n",
       "        vertical-align: middle;\n",
       "    }\n",
       "\n",
       "    .dataframe tbody tr th {\n",
       "        vertical-align: top;\n",
       "    }\n",
       "\n",
       "    .dataframe thead th {\n",
       "        text-align: right;\n",
       "    }\n",
       "</style>\n",
       "<table border=\"1\" class=\"dataframe\">\n",
       "  <thead>\n",
       "    <tr style=\"text-align: right;\">\n",
       "      <th></th>\n",
       "      <th>School</th>\n",
       "      <th>Conference</th>\n",
       "      <th>Coach</th>\n",
       "      <th>SchoolPay</th>\n",
       "      <th>TotalPay</th>\n",
       "      <th>Bonus</th>\n",
       "      <th>BonusPaid</th>\n",
       "      <th>AssistantPay</th>\n",
       "      <th>Buyout</th>\n",
       "      <th>FED_RATE</th>\n",
       "      <th>GSR</th>\n",
       "    </tr>\n",
       "  </thead>\n",
       "  <tbody>\n",
       "    <tr>\n",
       "      <th>0</th>\n",
       "      <td>Akron</td>\n",
       "      <td>Mid-American Conference</td>\n",
       "      <td>Terry Bowden</td>\n",
       "      <td>$411,000</td>\n",
       "      <td>412500</td>\n",
       "      <td>225000</td>\n",
       "      <td>$50,000</td>\n",
       "      <td>$0</td>\n",
       "      <td>$688,500</td>\n",
       "      <td>69.877095</td>\n",
       "      <td>89.748571</td>\n",
       "    </tr>\n",
       "    <tr>\n",
       "      <th>1</th>\n",
       "      <td>Ball State</td>\n",
       "      <td>Mid-American Conference</td>\n",
       "      <td>Mike Neu</td>\n",
       "      <td>$435,689</td>\n",
       "      <td>435689</td>\n",
       "      <td>380000</td>\n",
       "      <td>$30,000</td>\n",
       "      <td>$0</td>\n",
       "      <td>$980,300</td>\n",
       "      <td>69.877095</td>\n",
       "      <td>89.748571</td>\n",
       "    </tr>\n",
       "    <tr>\n",
       "      <th>2</th>\n",
       "      <td>Bowling Green</td>\n",
       "      <td>Mid-American Conference</td>\n",
       "      <td>Mike Jinks</td>\n",
       "      <td>$437,228</td>\n",
       "      <td>437228</td>\n",
       "      <td>245000</td>\n",
       "      <td>$81,250</td>\n",
       "      <td>$0</td>\n",
       "      <td>$874,456</td>\n",
       "      <td>69.877095</td>\n",
       "      <td>89.748571</td>\n",
       "    </tr>\n",
       "    <tr>\n",
       "      <th>3</th>\n",
       "      <td>Buffalo</td>\n",
       "      <td>Mid-American Conference</td>\n",
       "      <td>Lance Leipold</td>\n",
       "      <td>$455,500</td>\n",
       "      <td>455500</td>\n",
       "      <td>381000</td>\n",
       "      <td>$0</td>\n",
       "      <td>$0</td>\n",
       "      <td>$1,020,833</td>\n",
       "      <td>69.877095</td>\n",
       "      <td>89.748571</td>\n",
       "    </tr>\n",
       "    <tr>\n",
       "      <th>4</th>\n",
       "      <td>Central Michigan</td>\n",
       "      <td>Mid-American Conference</td>\n",
       "      <td>John Bonamego</td>\n",
       "      <td>$655,000</td>\n",
       "      <td>655000</td>\n",
       "      <td>415000</td>\n",
       "      <td>$45,000</td>\n",
       "      <td>$0</td>\n",
       "      <td>$1,125,000</td>\n",
       "      <td>69.877095</td>\n",
       "      <td>89.748571</td>\n",
       "    </tr>\n",
       "  </tbody>\n",
       "</table>\n",
       "</div>"
      ],
      "text/plain": [
       "             School               Conference          Coach  SchoolPay  \\\n",
       "0             Akron  Mid-American Conference   Terry Bowden  $411,000    \n",
       "1        Ball State  Mid-American Conference       Mike Neu  $435,689    \n",
       "2     Bowling Green  Mid-American Conference     Mike Jinks  $437,228    \n",
       "3           Buffalo  Mid-American Conference  Lance Leipold  $455,500    \n",
       "4  Central Michigan  Mid-American Conference  John Bonamego  $655,000    \n",
       "\n",
       "   TotalPay   Bonus BonusPaid AssistantPay       Buyout   FED_RATE        GSR  \n",
       "0    412500  225000  $50,000           $0     $688,500   69.877095  89.748571  \n",
       "1    435689  380000  $30,000           $0     $980,300   69.877095  89.748571  \n",
       "2    437228  245000  $81,250           $0     $874,456   69.877095  89.748571  \n",
       "3    455500  381000       $0           $0   $1,020,833   69.877095  89.748571  \n",
       "4    655000  415000  $45,000           $0   $1,125,000   69.877095  89.748571  "
      ]
     },
     "execution_count": 134,
     "metadata": {},
     "output_type": "execute_result"
    }
   ],
   "source": [
    "# merge into dataset for analysis\n",
    "coaches_A = coaches.merge(conferenceDF, left_on='Conference', right_on='Conference')\n",
    "#coaches_A = coaches_A.drop(['FED_RATE_x','GSR_x'], axis=1)\n",
    "coaches_A.head()\n"
   ]
  },
  {
   "cell_type": "code",
   "execution_count": 135,
   "metadata": {
    "scrolled": true
   },
   "outputs": [
    {
     "name": "stdout",
     "output_type": "stream",
     "text": [
      "<class 'pandas.core.frame.DataFrame'>\n",
      "Int64Index: 85 entries, 0 to 84\n",
      "Data columns (total 11 columns):\n",
      "School          85 non-null object\n",
      "Conference      85 non-null object\n",
      "Coach           85 non-null object\n",
      "SchoolPay       85 non-null object\n",
      "TotalPay        85 non-null int64\n",
      "Bonus           85 non-null int64\n",
      "BonusPaid       85 non-null object\n",
      "AssistantPay    85 non-null object\n",
      "Buyout          85 non-null object\n",
      "FED_RATE        85 non-null float64\n",
      "GSR             85 non-null float64\n",
      "dtypes: float64(2), int64(2), object(7)\n",
      "memory usage: 8.0+ KB\n"
     ]
    }
   ],
   "source": [
    "coaches_A.info()\n",
    "\n",
    "#coaches[(coaches.Conference == 'MAC')]['FED_RATE'] = 1\n",
    "#coaches['FED_RATE'] = np.where(coaches.Conference=='MAC', 4)"
   ]
  },
  {
   "cell_type": "code",
   "execution_count": 136,
   "metadata": {},
   "outputs": [
    {
     "name": "stdout",
     "output_type": "stream",
     "text": [
      "<class 'pandas.core.frame.DataFrame'>\n",
      "Int64Index: 85 entries, 0 to 84\n",
      "Data columns (total 11 columns):\n",
      "School          85 non-null object\n",
      "Conference      85 non-null category\n",
      "Coach           85 non-null object\n",
      "SchoolPay       85 non-null int64\n",
      "TotalPay        85 non-null int64\n",
      "Bonus           85 non-null int64\n",
      "BonusPaid       85 non-null int64\n",
      "AssistantPay    85 non-null int64\n",
      "Buyout          85 non-null int64\n",
      "FED_RATE        85 non-null float64\n",
      "GSR             85 non-null float64\n",
      "dtypes: category(1), float64(2), int64(6), object(2)\n",
      "memory usage: 7.8+ KB\n"
     ]
    }
   ],
   "source": [
    "# final datatype adjustments before analysis\n",
    "coaches_A.SchoolPay = moMoneyMoProblems(coaches_A.SchoolPay)\n",
    "coaches_A.BonusPaid = moMoneyMoProblems(coaches_A.BonusPaid)\n",
    "coaches_A.AssistantPay = moMoneyMoProblems(coaches_A.AssistantPay)\n",
    "coaches_A.Buyout = moMoneyMoProblems(coaches_A.Buyout)\n",
    "#coaches_A.Conference = moMoneyMoProblems(coaches_A.Conference).astype('category')\n",
    "coaches_A['Conference'] = coaches_A['Conference'].astype('category')\n",
    "#c['Bonus'] = moMoneyMoProblems(c['Bonus']) \n",
    "\n",
    "#c['Conference'] = c['Conference'].astype('category')\n",
    "coaches_A.info()"
   ]
  },
  {
   "cell_type": "code",
   "execution_count": 137,
   "metadata": {},
   "outputs": [
    {
     "name": "stdout",
     "output_type": "stream",
     "text": [
      "                            OLS Regression Results                            \n",
      "==============================================================================\n",
      "Dep. Variable:               TotalPay   R-squared:                       0.937\n",
      "Model:                            OLS   Adj. R-squared:                  0.922\n",
      "Method:                 Least Squares   F-statistic:                     63.18\n",
      "Date:                Fri, 19 Jul 2019   Prob (F-statistic):           2.41e-24\n",
      "Time:                        15:14:44   Log-Likelihood:                -855.70\n",
      "No. Observations:                  59   AIC:                             1735.\n",
      "Df Residuals:                      47   BIC:                             1760.\n",
      "Df Model:                          11                                         \n",
      "Covariance Type:            nonrobust                                         \n",
      "===========================================================================================================\n",
      "                                              coef    std err          t      P>|t|      [0.025      0.975]\n",
      "-----------------------------------------------------------------------------------------------------------\n",
      "Intercept                               -2.863e+04      3e+04     -0.954      0.345    -8.9e+04    3.18e+04\n",
      "Conference[T.Atlantic Coast Conference]  4.486e+05   2.55e+05      1.756      0.086   -6.53e+04    9.62e+05\n",
      "Conference[T.Big 12 Conference]          1.425e+06   3.74e+05      3.805      0.000    6.71e+05    2.18e+06\n",
      "Conference[T.Big Ten Conference]        -6.296e+04   1.81e+05     -0.348      0.729   -4.27e+05    3.01e+05\n",
      "Conference[T.Conference USA]            -5.237e+05   3.24e+05     -1.615      0.113   -1.18e+06    1.29e+05\n",
      "Conference[T.Mid-American Conference]   -9.393e+05   2.87e+05     -3.277      0.002   -1.52e+06   -3.63e+05\n",
      "Conference[T.Mountain West Conference]  -3.187e+05    3.5e+05     -0.910      0.368   -1.02e+06    3.86e+05\n",
      "Conference[T.Pac-12 Conference]          1.431e+05   3.59e+05      0.399      0.692   -5.79e+05    8.65e+05\n",
      "Conference[T.Southeastern Conference]     1.26e+06   3.62e+05      3.481      0.001    5.32e+05    1.99e+06\n",
      "Conference[T.Sun Belt Conference]       -1.526e+05    3.7e+05     -0.412      0.682   -8.97e+05    5.92e+05\n",
      "BonusPaid                                   0.0392      0.420      0.093      0.926      -0.806       0.885\n",
      "AssistantPay                            -2.477e-11   6.81e-12     -3.634      0.001   -3.85e-11   -1.11e-11\n",
      "Buyout                                      0.1270      0.012     10.679      0.000       0.103       0.151\n",
      "FED_RATE                                 1.239e+05   3.74e+04      3.309      0.002    4.86e+04    1.99e+05\n",
      "GSR                                     -8.059e+04   3.02e+04     -2.673      0.010   -1.41e+05   -1.99e+04\n",
      "==============================================================================\n",
      "Omnibus:                        4.502   Durbin-Watson:                   2.083\n",
      "Prob(Omnibus):                  0.105   Jarque-Bera (JB):                5.396\n",
      "Skew:                          -0.060   Prob(JB):                       0.0673\n",
      "Kurtosis:                       4.477   Cond. No.                     2.46e+29\n",
      "==============================================================================\n",
      "\n",
      "Warnings:\n",
      "[1] Standard Errors assume that the covariance matrix of the errors is correctly specified.\n",
      "[2] The smallest eigenvalue is 1.49e-43. This might indicate that there are\n",
      "strong multicollinearity problems or that the design matrix is singular.\n"
     ]
    }
   ],
   "source": [
    "# employ training-and-test regimen for model validation\n",
    "np.random.seed(1234) # random seed generator\n",
    "\n",
    "# divide data into test and train\n",
    "c_random = coaches_A.sample(frac=1) #randomize rows\n",
    "msk = np.random.rand(len(c_random)) < 0.7\n",
    "trainData = c_random[msk]\n",
    "testData = c_random[~msk]\n",
    "\n",
    "# ols model\n",
    "model_stmnt = str('TotalPay ~ Conference + BonusPaid + AssistantPay + Buyout + FED_RATE + GSR' )\n",
    "\n",
    "train_model = smf.ols(model_stmnt, data = trainData).fit()\n",
    "\n",
    "print(train_model.summary())"
   ]
  },
  {
   "cell_type": "code",
   "execution_count": 138,
   "metadata": {},
   "outputs": [
    {
     "name": "stdout",
     "output_type": "stream",
     "text": [
      "                            OLS Regression Results                            \n",
      "==============================================================================\n",
      "Dep. Variable:               TotalPay   R-squared:                       0.854\n",
      "Model:                            OLS   Adj. R-squared:                  0.846\n",
      "Method:                 Least Squares   F-statistic:                     107.5\n",
      "Date:                Fri, 19 Jul 2019   Prob (F-statistic):           5.54e-23\n",
      "Time:                        15:14:45   Log-Likelihood:                -880.28\n",
      "No. Observations:                  59   AIC:                             1769.\n",
      "Df Residuals:                      55   BIC:                             1777.\n",
      "Df Model:                           3                                         \n",
      "Covariance Type:            nonrobust                                         \n",
      "================================================================================\n",
      "                   coef    std err          t      P>|t|      [0.025      0.975]\n",
      "--------------------------------------------------------------------------------\n",
      "Intercept    -1.698e+07   6.85e+06     -2.478      0.016   -3.07e+07   -3.25e+06\n",
      "AssistantPay    -0.0043      0.002     -2.478      0.016      -0.008      -0.001\n",
      "Buyout           0.1652      0.012     13.822      0.000       0.141       0.189\n",
      "FED_RATE     -2.664e+04   4.75e+04     -0.560      0.578   -1.22e+05    6.86e+04\n",
      "GSR           2.227e+05   1.07e+05      2.072      0.043    7348.659    4.38e+05\n",
      "==============================================================================\n",
      "Omnibus:                        9.633   Durbin-Watson:                   2.152\n",
      "Prob(Omnibus):                  0.008   Jarque-Bera (JB):                9.217\n",
      "Skew:                           0.910   Prob(JB):                      0.00997\n",
      "Kurtosis:                       3.663   Cond. No.                     1.31e+17\n",
      "==============================================================================\n",
      "\n",
      "Warnings:\n",
      "[1] Standard Errors assume that the covariance matrix of the errors is correctly specified.\n",
      "[2] The smallest eigenvalue is 5.29e-19. This might indicate that there are\n",
      "strong multicollinearity problems or that the design matrix is singular.\n"
     ]
    }
   ],
   "source": [
    "# part 2, removing conference to see how we do, along with values > 0.05\n",
    "model_stmnt_v2 = str('TotalPay ~ AssistantPay + Buyout + FED_RATE + GSR' )\n",
    "\n",
    "train_model_v2 = smf.ols(model_stmnt_v2, data = trainData).fit()\n",
    "\n",
    "print(train_model_v2.summary()) # not as good as 1"
   ]
  },
  {
   "cell_type": "code",
   "execution_count": 139,
   "metadata": {},
   "outputs": [
    {
     "name": "stdout",
     "output_type": "stream",
     "text": [
      "                            GLS Regression Results                            \n",
      "==============================================================================\n",
      "Dep. Variable:               TotalPay   R-squared:                       0.937\n",
      "Model:                            GLS   Adj. R-squared:                  0.922\n",
      "Method:                 Least Squares   F-statistic:                     63.18\n",
      "Date:                Fri, 19 Jul 2019   Prob (F-statistic):           2.41e-24\n",
      "Time:                        15:14:46   Log-Likelihood:                -855.70\n",
      "No. Observations:                  59   AIC:                             1735.\n",
      "Df Residuals:                      47   BIC:                             1760.\n",
      "Df Model:                          11                                         \n",
      "Covariance Type:            nonrobust                                         \n",
      "===========================================================================================================\n",
      "                                              coef    std err          t      P>|t|      [0.025      0.975]\n",
      "-----------------------------------------------------------------------------------------------------------\n",
      "Intercept                               -2.863e+04      3e+04     -0.954      0.345    -8.9e+04    3.18e+04\n",
      "Conference[T.Atlantic Coast Conference]  4.486e+05   2.55e+05      1.756      0.086   -6.53e+04    9.62e+05\n",
      "Conference[T.Big 12 Conference]          1.425e+06   3.74e+05      3.805      0.000    6.71e+05    2.18e+06\n",
      "Conference[T.Big Ten Conference]        -6.296e+04   1.81e+05     -0.348      0.729   -4.27e+05    3.01e+05\n",
      "Conference[T.Conference USA]            -5.237e+05   3.24e+05     -1.615      0.113   -1.18e+06    1.29e+05\n",
      "Conference[T.Mid-American Conference]   -9.393e+05   2.87e+05     -3.277      0.002   -1.52e+06   -3.63e+05\n",
      "Conference[T.Mountain West Conference]  -3.187e+05    3.5e+05     -0.910      0.368   -1.02e+06    3.86e+05\n",
      "Conference[T.Pac-12 Conference]          1.431e+05   3.59e+05      0.399      0.692   -5.79e+05    8.65e+05\n",
      "Conference[T.Southeastern Conference]     1.26e+06   3.62e+05      3.481      0.001    5.32e+05    1.99e+06\n",
      "Conference[T.Sun Belt Conference]       -1.526e+05    3.7e+05     -0.412      0.682   -8.97e+05    5.92e+05\n",
      "BonusPaid                                   0.0392      0.420      0.093      0.926      -0.806       0.885\n",
      "AssistantPay                            -2.477e-11   6.81e-12     -3.634      0.001   -3.85e-11   -1.11e-11\n",
      "Buyout                                      0.1270      0.012     10.679      0.000       0.103       0.151\n",
      "FED_RATE                                 1.239e+05   3.74e+04      3.309      0.002    4.86e+04    1.99e+05\n",
      "GSR                                     -8.059e+04   3.02e+04     -2.673      0.010   -1.41e+05   -1.99e+04\n",
      "==============================================================================\n",
      "Omnibus:                        4.502   Durbin-Watson:                   2.083\n",
      "Prob(Omnibus):                  0.105   Jarque-Bera (JB):                5.396\n",
      "Skew:                          -0.060   Prob(JB):                       0.0673\n",
      "Kurtosis:                       4.477   Cond. No.                     2.46e+29\n",
      "==============================================================================\n",
      "\n",
      "Warnings:\n",
      "[1] Standard Errors assume that the covariance matrix of the errors is correctly specified.\n",
      "[2] The smallest eigenvalue is 1.49e-43. This might indicate that there are\n",
      "strong multicollinearity problems or that the design matrix is singular.\n"
     ]
    }
   ],
   "source": [
    "#gls\n",
    "model_stmnt_v3 = str('TotalPay ~ Conference + BonusPaid + AssistantPay + Buyout + FED_RATE + GSR' )\n",
    "\n",
    "train_model_v3 = smf.gls(model_stmnt_v3, data = trainData).fit()\n",
    "\n",
    "print(train_model_v3.summary())"
   ]
  },
  {
   "cell_type": "code",
   "execution_count": 140,
   "metadata": {
    "scrolled": true
   },
   "outputs": [
    {
     "name": "stdout",
     "output_type": "stream",
     "text": [
      "                            WLS Regression Results                            \n",
      "==============================================================================\n",
      "Dep. Variable:               TotalPay   R-squared:                       0.937\n",
      "Model:                            WLS   Adj. R-squared:                  0.922\n",
      "Method:                 Least Squares   F-statistic:                     63.18\n",
      "Date:                Fri, 19 Jul 2019   Prob (F-statistic):           2.41e-24\n",
      "Time:                        15:14:47   Log-Likelihood:                -855.70\n",
      "No. Observations:                  59   AIC:                             1735.\n",
      "Df Residuals:                      47   BIC:                             1760.\n",
      "Df Model:                          11                                         \n",
      "Covariance Type:            nonrobust                                         \n",
      "===========================================================================================================\n",
      "                                              coef    std err          t      P>|t|      [0.025      0.975]\n",
      "-----------------------------------------------------------------------------------------------------------\n",
      "Intercept                               -2.863e+04      3e+04     -0.954      0.345    -8.9e+04    3.18e+04\n",
      "Conference[T.Atlantic Coast Conference]  4.486e+05   2.55e+05      1.756      0.086   -6.53e+04    9.62e+05\n",
      "Conference[T.Big 12 Conference]          1.425e+06   3.74e+05      3.805      0.000    6.71e+05    2.18e+06\n",
      "Conference[T.Big Ten Conference]        -6.296e+04   1.81e+05     -0.348      0.729   -4.27e+05    3.01e+05\n",
      "Conference[T.Conference USA]            -5.237e+05   3.24e+05     -1.615      0.113   -1.18e+06    1.29e+05\n",
      "Conference[T.Mid-American Conference]   -9.393e+05   2.87e+05     -3.277      0.002   -1.52e+06   -3.63e+05\n",
      "Conference[T.Mountain West Conference]  -3.187e+05    3.5e+05     -0.910      0.368   -1.02e+06    3.86e+05\n",
      "Conference[T.Pac-12 Conference]          1.431e+05   3.59e+05      0.399      0.692   -5.79e+05    8.65e+05\n",
      "Conference[T.Southeastern Conference]     1.26e+06   3.62e+05      3.481      0.001    5.32e+05    1.99e+06\n",
      "Conference[T.Sun Belt Conference]       -1.526e+05    3.7e+05     -0.412      0.682   -8.97e+05    5.92e+05\n",
      "BonusPaid                                   0.0392      0.420      0.093      0.926      -0.806       0.885\n",
      "AssistantPay                            -2.477e-11   6.81e-12     -3.634      0.001   -3.85e-11   -1.11e-11\n",
      "Buyout                                      0.1270      0.012     10.679      0.000       0.103       0.151\n",
      "FED_RATE                                 1.239e+05   3.74e+04      3.309      0.002    4.86e+04    1.99e+05\n",
      "GSR                                     -8.059e+04   3.02e+04     -2.673      0.010   -1.41e+05   -1.99e+04\n",
      "==============================================================================\n",
      "Omnibus:                        4.502   Durbin-Watson:                   2.083\n",
      "Prob(Omnibus):                  0.105   Jarque-Bera (JB):                5.396\n",
      "Skew:                          -0.060   Prob(JB):                       0.0673\n",
      "Kurtosis:                       4.477   Cond. No.                     2.46e+29\n",
      "==============================================================================\n",
      "\n",
      "Warnings:\n",
      "[1] Standard Errors assume that the covariance matrix of the errors is correctly specified.\n",
      "[2] The smallest eigenvalue is 1.49e-43. This might indicate that there are\n",
      "strong multicollinearity problems or that the design matrix is singular.\n"
     ]
    }
   ],
   "source": [
    "#wls\n",
    "model_stmnt_v4 = str('TotalPay ~ Conference + BonusPaid + AssistantPay + Buyout + FED_RATE + GSR' )\n",
    "\n",
    "train_model_v4 = smf.wls(model_stmnt_v4, data = trainData).fit()\n",
    "\n",
    "print(train_model_v4.summary())"
   ]
  },
  {
   "cell_type": "code",
   "execution_count": 141,
   "metadata": {},
   "outputs": [
    {
     "name": "stderr",
     "output_type": "stream",
     "text": [
      "C:\\ProgramData\\Anaconda3\\lib\\site-packages\\ipykernel_launcher.py:5: SettingWithCopyWarning: \n",
      "A value is trying to be set on a copy of a slice from a DataFrame.\n",
      "Try using .loc[row_indexer,col_indexer] = value instead\n",
      "\n",
      "See the caveats in the documentation: http://pandas.pydata.org/pandas-docs/stable/indexing.html#indexing-view-versus-copy\n",
      "  \"\"\"\n",
      "C:\\ProgramData\\Anaconda3\\lib\\site-packages\\ipykernel_launcher.py:6: SettingWithCopyWarning: \n",
      "A value is trying to be set on a copy of a slice from a DataFrame.\n",
      "Try using .loc[row_indexer,col_indexer] = value instead\n",
      "\n",
      "See the caveats in the documentation: http://pandas.pydata.org/pandas-docs/stable/indexing.html#indexing-view-versus-copy\n",
      "  \n"
     ]
    }
   ],
   "source": [
    "#predict best model - ols\n",
    "trainData_Final = trainData\n",
    "testData_Final = testData\n",
    "\n",
    "trainData_Final['Predicted'] = train_model.fittedvalues\n",
    "testData_Final['Predicted'] = train_model.predict(trainData)"
   ]
  },
  {
   "cell_type": "code",
   "execution_count": 142,
   "metadata": {
    "scrolled": true
   },
   "outputs": [
    {
     "name": "stdout",
     "output_type": "stream",
     "text": [
      "                            OLS Regression Results                            \n",
      "==============================================================================\n",
      "Dep. Variable:               TotalPay   R-squared:                       0.727\n",
      "Model:                            OLS   Adj. R-squared:                  0.677\n",
      "Method:                 Least Squares   F-statistic:                     14.50\n",
      "Date:                Fri, 19 Jul 2019   Prob (F-statistic):           4.51e-11\n",
      "Time:                        15:14:49   Log-Likelihood:                -898.80\n",
      "No. Observations:                  59   AIC:                             1818.\n",
      "Df Residuals:                      49   BIC:                             1838.\n",
      "Df Model:                           9                                         \n",
      "Covariance Type:            nonrobust                                         \n",
      "===========================================================================================================\n",
      "                                              coef    std err          t      P>|t|      [0.025      0.975]\n",
      "-----------------------------------------------------------------------------------------------------------\n",
      "Intercept                                1.313e+04   6.06e+04      0.216      0.830   -1.09e+05    1.35e+05\n",
      "Conference[T.Atlantic Coast Conference]  8.816e+05   4.99e+05      1.767      0.083   -1.21e+05    1.88e+06\n",
      "Conference[T.Big 12 Conference]          2.644e+06   7.35e+05      3.600      0.001    1.17e+06    4.12e+06\n",
      "Conference[T.Big Ten Conference]        -1.453e+05   3.59e+05     -0.404      0.688   -8.67e+05    5.77e+05\n",
      "Conference[T.Conference USA]             -2.91e+05   6.58e+05     -0.442      0.660   -1.61e+06    1.03e+06\n",
      "Conference[T.Mid-American Conference]   -1.586e+06   5.73e+05     -2.770      0.008   -2.74e+06   -4.35e+05\n",
      "Conference[T.Mountain West Conference]   1.792e+05   7.07e+05      0.253      0.801   -1.24e+06     1.6e+06\n",
      "Conference[T.Pac-12 Conference]          1.081e+06   7.14e+05      1.514      0.136   -3.54e+05    2.51e+06\n",
      "Conference[T.Southeastern Conference]    3.067e+06   6.57e+05      4.665      0.000    1.75e+06    4.39e+06\n",
      "Conference[T.Sun Belt Conference]        4.454e+05   7.46e+05      0.597      0.553   -1.05e+06    1.94e+06\n",
      "FED_RATE                                 3.482e+05   6.67e+04      5.219      0.000    2.14e+05    4.82e+05\n",
      "GSR                                     -2.463e+05    5.5e+04     -4.479      0.000   -3.57e+05   -1.36e+05\n",
      "==============================================================================\n",
      "Omnibus:                       14.890   Durbin-Watson:                   2.241\n",
      "Prob(Omnibus):                  0.001   Jarque-Bera (JB):               24.423\n",
      "Skew:                           0.818   Prob(JB):                     4.97e-06\n",
      "Kurtosis:                       5.694   Cond. No.                     9.02e+18\n",
      "==============================================================================\n",
      "\n",
      "Warnings:\n",
      "[1] Standard Errors assume that the covariance matrix of the errors is correctly specified.\n",
      "[2] The smallest eigenvalue is 9.13e-33. This might indicate that there are\n",
      "strong multicollinearity problems or that the design matrix is singular.\n"
     ]
    }
   ],
   "source": [
    "# ols model\n",
    "model_stmnt_syr = str('TotalPay ~ Conference + FED_RATE + GSR' )\n",
    "\n",
    "train_model_syr = smf.ols(model_stmnt_syr, data = trainData).fit()\n",
    "\n",
    "print(train_model_syr.summary())"
   ]
  },
  {
   "cell_type": "code",
   "execution_count": 143,
   "metadata": {},
   "outputs": [],
   "source": [
    "syr_group = coaches_A.groupby(['Conference']).mean()\n",
    "syr = syr_group.loc['Atlantic Coast Conference']\n",
    "syr['Conference'] = 'Atlantic Coast Conference'\n",
    "#syr = pd.DataFrame(syr)\n",
    "result = train_model_syr.predict(testData)\n",
    "#result\n",
    "#coaches_A['Conference']"
   ]
  },
  {
   "cell_type": "code",
   "execution_count": 144,
   "metadata": {},
   "outputs": [
    {
     "name": "stdout",
     "output_type": "stream",
     "text": [
      "26\n"
     ]
    }
   ],
   "source": [
    "print(len(result))"
   ]
  },
  {
   "cell_type": "code",
   "execution_count": 145,
   "metadata": {},
   "outputs": [
    {
     "name": "stdout",
     "output_type": "stream",
     "text": [
      "26\n"
     ]
    }
   ],
   "source": [
    "print(len(testData))"
   ]
  },
  {
   "cell_type": "code",
   "execution_count": 146,
   "metadata": {},
   "outputs": [
    {
     "name": "stderr",
     "output_type": "stream",
     "text": [
      "C:\\ProgramData\\Anaconda3\\lib\\site-packages\\ipykernel_launcher.py:1: SettingWithCopyWarning: \n",
      "A value is trying to be set on a copy of a slice from a DataFrame.\n",
      "Try using .loc[row_indexer,col_indexer] = value instead\n",
      "\n",
      "See the caveats in the documentation: http://pandas.pydata.org/pandas-docs/stable/indexing.html#indexing-view-versus-copy\n",
      "  \"\"\"Entry point for launching an IPython kernel.\n"
     ]
    }
   ],
   "source": [
    "testData['Pred'] = result"
   ]
  },
  {
   "cell_type": "code",
   "execution_count": 147,
   "metadata": {
    "scrolled": true
   },
   "outputs": [
    {
     "data": {
      "text/html": [
       "<div>\n",
       "<style scoped>\n",
       "    .dataframe tbody tr th:only-of-type {\n",
       "        vertical-align: middle;\n",
       "    }\n",
       "\n",
       "    .dataframe tbody tr th {\n",
       "        vertical-align: top;\n",
       "    }\n",
       "\n",
       "    .dataframe thead th {\n",
       "        text-align: right;\n",
       "    }\n",
       "</style>\n",
       "<table border=\"1\" class=\"dataframe\">\n",
       "  <thead>\n",
       "    <tr style=\"text-align: right;\">\n",
       "      <th></th>\n",
       "      <th>SCL_UNITID</th>\n",
       "      <th>SCL_DIVISION</th>\n",
       "      <th>SCL_SUBDIVISION</th>\n",
       "      <th>SCL_HBCU</th>\n",
       "      <th>SCL_PRIVATE</th>\n",
       "      <th>SPONSORED</th>\n",
       "      <th>FED_RATE</th>\n",
       "      <th>GSR</th>\n",
       "    </tr>\n",
       "    <tr>\n",
       "      <th>SCL_NAME</th>\n",
       "      <th></th>\n",
       "      <th></th>\n",
       "      <th></th>\n",
       "      <th></th>\n",
       "      <th></th>\n",
       "      <th></th>\n",
       "      <th></th>\n",
       "      <th></th>\n",
       "    </tr>\n",
       "  </thead>\n",
       "  <tbody>\n",
       "    <tr>\n",
       "      <th>Syracuse University</th>\n",
       "      <td>196413</td>\n",
       "      <td>1</td>\n",
       "      <td>1</td>\n",
       "      <td>2</td>\n",
       "      <td>1</td>\n",
       "      <td>1</td>\n",
       "      <td>70.533333</td>\n",
       "      <td>93.0</td>\n",
       "    </tr>\n",
       "  </tbody>\n",
       "</table>\n",
       "</div>"
      ],
      "text/plain": [
       "                     SCL_UNITID  SCL_DIVISION  SCL_SUBDIVISION  SCL_HBCU  \\\n",
       "SCL_NAME                                                                   \n",
       "Syracuse University      196413             1                1         2   \n",
       "\n",
       "                     SCL_PRIVATE  SPONSORED   FED_RATE   GSR  \n",
       "SCL_NAME                                                      \n",
       "Syracuse University            1          1  70.533333  93.0  "
      ]
     },
     "execution_count": 147,
     "metadata": {},
     "output_type": "execute_result"
    }
   ],
   "source": [
    "# answers to questions with best model - ols\n",
    "\n",
    "syracuse = ncaa.loc[ncaa['SCL_NAME'] == 'Syracuse University']\n",
    "syr_g = syracuse.groupby(['SCL_NAME']).mean()\n",
    "syr_g\n",
    "\n",
    "#test_df = new_ncaa.groupby(['SCL_CONFERENCE']).mean()\n",
    "#df.loc[df['column_name'] == some_value]"
   ]
  },
  {
   "cell_type": "code",
   "execution_count": 151,
   "metadata": {},
   "outputs": [
    {
     "name": "stdout",
     "output_type": "stream",
     "text": [
      "0    2.543443e+06\n",
      "dtype: float64\n"
     ]
    },
    {
     "data": {
      "text/html": [
       "<div>\n",
       "<style scoped>\n",
       "    .dataframe tbody tr th:only-of-type {\n",
       "        vertical-align: middle;\n",
       "    }\n",
       "\n",
       "    .dataframe tbody tr th {\n",
       "        vertical-align: top;\n",
       "    }\n",
       "\n",
       "    .dataframe thead th {\n",
       "        text-align: right;\n",
       "    }\n",
       "</style>\n",
       "<table border=\"1\" class=\"dataframe\">\n",
       "  <thead>\n",
       "    <tr style=\"text-align: right;\">\n",
       "      <th></th>\n",
       "      <th>FED_RATE</th>\n",
       "      <th>GSR</th>\n",
       "    </tr>\n",
       "    <tr>\n",
       "      <th>SCL_CONFERENCE</th>\n",
       "      <th></th>\n",
       "      <th></th>\n",
       "    </tr>\n",
       "  </thead>\n",
       "  <tbody>\n",
       "    <tr>\n",
       "      <th>American Athletic Conference</th>\n",
       "      <td>67.337143</td>\n",
       "      <td>89.583815</td>\n",
       "    </tr>\n",
       "    <tr>\n",
       "      <th>Big Ten Conference</th>\n",
       "      <td>76.313993</td>\n",
       "      <td>91.092784</td>\n",
       "    </tr>\n",
       "    <tr>\n",
       "      <th>Big East Conference</th>\n",
       "      <td>77.198582</td>\n",
       "      <td>94.748299</td>\n",
       "    </tr>\n",
       "  </tbody>\n",
       "</table>\n",
       "</div>"
      ],
      "text/plain": [
       "                               FED_RATE        GSR\n",
       "SCL_CONFERENCE                                    \n",
       "American Athletic Conference  67.337143  89.583815\n",
       "Big Ten Conference            76.313993  91.092784\n",
       "Big East Conference           77.198582  94.748299"
      ]
     },
     "execution_count": 151,
     "metadata": {},
     "output_type": "execute_result"
    }
   ],
   "source": [
    "data = [['Atlantic Coast Conference', 70.533333, 93.0]] \n",
    "  \n",
    "# Create the pandas DataFrame \n",
    "to_test = pd.DataFrame(data, columns = ['Conference' , 'FED_RATE' , 'GSR']) \n",
    "\n",
    "\n",
    "\n",
    "result2 = train_model_syr.predict(to_test)\n",
    "print(result2)\n",
    "# $2,543,443\n",
    "\n",
    "to_test = test_df.loc[['American Athletic Conference','Big Ten Conference', 'Big East Conference']]\n",
    "to_test.rename(columns={\"SCL_CONFERENCE\":\"Conference\"})\n",
    "to_test.head()\n",
    "#df.rename(columns={\"A\": \"a\", \"B\": \"c\"})\n",
    "#result3 = train_model_syr.predict(to_test)\n",
    "\n"
   ]
  },
  {
   "cell_type": "code",
   "execution_count": 154,
   "metadata": {},
   "outputs": [
    {
     "name": "stdout",
     "output_type": "stream",
     "text": [
      "0    3.999111e+06\n",
      "dtype: float64\n"
     ]
    }
   ],
   "source": [
    "data = [['Big Ten Conference' ,76.313993, 91.092784]] \n",
    "  \n",
    "# Create the pandas DataFrame \n",
    "to_test = pd.DataFrame(data, columns = ['Conference' , 'FED_RATE' , 'GSR']) \n",
    "\n",
    "\n",
    "\n",
    "result2 = train_model_syr.predict(to_test)\n",
    "print(result2)"
   ]
  },
  {
   "cell_type": "code",
   "execution_count": 152,
   "metadata": {},
   "outputs": [],
   "source": [
    "to_test.index.name = 'Conference'\n",
    "to_test.reset_index(inplace=True)\n",
    "to_test.head()\n",
    "\n",
    "to_test['Conference'] = to_test['Conference'].astype('category')\n",
    "\n",
    "b10 = to_test.loc[to_test['Conference'] == 'Big Ten Conference']\n",
    "b10\n",
    "#train_model_syr.predict(b10)\n",
    "\n",
    "\n",
    "data = [['Atlantic Coast Conference', 70.533333, 93.0] , \n",
    "        ['Big Ten Conference' ,76.313993, 91.092784] , \n",
    "        ['Big East Conference', 77.198582, 94.748299] ] \n",
    "\n",
    "to_test = pd.DataFrame(data, columns = ['Conference' , 'FED_RATE' , 'GSR']) \n",
    "\n",
    "# no big east data to use\n",
    "#result3 = train_model_syr.predict(to_test)\n",
    "#result3"
   ]
  },
  {
   "cell_type": "code",
   "execution_count": 150,
   "metadata": {},
   "outputs": [
    {
     "data": {
      "text/plain": [
       "SCL_NAME\n",
       "Syracuse University    2.543443e+06\n",
       "dtype: float64"
      ]
     },
     "execution_count": 150,
     "metadata": {},
     "output_type": "execute_result"
    }
   ],
   "source": [
    "syr_g['Conference'] = 'Atlantic Coast Conference'\n",
    "\n",
    "train_model_syr.predict(syr_g)"
   ]
  },
  {
   "cell_type": "code",
   "execution_count": null,
   "metadata": {},
   "outputs": [],
   "source": []
  }
 ],
 "metadata": {
  "kernelspec": {
   "display_name": "Python 3",
   "language": "python",
   "name": "python3"
  },
  "language_info": {
   "codemirror_mode": {
    "name": "ipython",
    "version": 3
   },
   "file_extension": ".py",
   "mimetype": "text/x-python",
   "name": "python",
   "nbconvert_exporter": "python",
   "pygments_lexer": "ipython3",
   "version": "3.7.3"
  }
 },
 "nbformat": 4,
 "nbformat_minor": 2
}
